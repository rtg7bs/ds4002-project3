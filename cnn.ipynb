{
 "cells": [
  {
   "cell_type": "markdown",
   "id": "89738737",
   "metadata": {},
   "source": [
    "This is a test"
   ]
  }
 ],
 "metadata": {
  "language_info": {
   "name": "python"
  }
 },
 "nbformat": 4,
 "nbformat_minor": 5
}
