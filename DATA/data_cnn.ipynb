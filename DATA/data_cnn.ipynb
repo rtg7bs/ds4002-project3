{
 "cells": [
  {
   "cell_type": "code",
   "execution_count": 1,
   "id": "ac7a291f",
   "metadata": {},
   "outputs": [],
   "source": [
    "import tensorflow as tf\n",
    "import pandas as pd\n",
    "import os\n",
    "import matplotlib.pyplot as plt"
   ]
  },
  {
   "cell_type": "code",
   "execution_count": 2,
   "id": "df2b7f72",
   "metadata": {},
   "outputs": [],
   "source": [
    "# -------- CONFIG --------\n",
    "IMG_SIZE = (1600, 3200)\n",
    "BATCH_SIZE = 8  # You can tune this based on your RAM/GPU\n",
    "EPOCHS = 10\n",
    "\n",
    "# -------- PATHS -------- (update for local paths)\n",
    "train_csv = \"train.csv\"\n",
    "val_csv = \"valid.csv\"\n",
    "test_csv = \"test.csv\"\n",
    "\n",
    "train_dir = r\"C:\\Users\\vance\\Desktop\\project_folder\\p3\\USD.v3i.coco\\train\"\n",
    "val_dir = r\"C:\\Users\\vance\\Desktop\\project_folder\\p3\\USD.v3i.coco\\valid\"\n",
    "test_dir = r\"C:\\Users\\vance\\Desktop\\project_folder\\p3\\USD.v3i.coco\\test\"\n",
    "\n",
    "AUTOTUNE = tf.data.AUTOTUNE\n",
    "\n",
    "\n",
    "# -------- READ DATAFRAME --------\n",
    "def get_dataset_from_csv(csv_file, image_dir):\n",
    "    df = pd.read_csv(csv_file)\n",
    "    df['file_path'] = df['file_name'].apply(lambda x: os.path.join(image_dir, x))\n",
    "    file_paths = df['file_path'].values\n",
    "    labels = df['category_id'].values\n",
    "    return file_paths, labels\n",
    "\n",
    "\n",
    "# -------- PREPROCESS FUNCTION --------\n",
    "def process_path(file_path, label):\n",
    "    img = tf.io.read_file(file_path)\n",
    "    img = tf.image.decode_jpeg(img, channels=3)\n",
    "    img = tf.image.resize(img, IMG_SIZE)\n",
    "    img = img / 255.0\n",
    "    return img, label\n",
    "\n",
    "\n",
    "# -------- BUILD TF.DATA PIPELINE --------\n",
    "def build_dataset(file_paths, labels, is_training=True):\n",
    "    ds = tf.data.Dataset.from_tensor_slices((file_paths, labels))\n",
    "    ds = ds.map(process_path, num_parallel_calls=AUTOTUNE)\n",
    "    if is_training:\n",
    "        ds = ds.shuffle(1000)\n",
    "    ds = ds.batch(BATCH_SIZE).prefetch(AUTOTUNE)\n",
    "    return ds\n",
    "\n",
    "\n",
    "# -------- LOAD DATASETS --------\n",
    "train_files, train_labels = get_dataset_from_csv(train_csv, train_dir)\n",
    "val_files, val_labels = get_dataset_from_csv(val_csv, val_dir)\n",
    "test_files, test_labels = get_dataset_from_csv(test_csv, test_dir)\n",
    "\n",
    "num_classes = len(set(train_labels))\n",
    "\n",
    "train_ds = build_dataset(train_files, train_labels, is_training=True)\n",
    "val_ds = build_dataset(val_files, val_labels, is_training=False)\n",
    "test_ds = build_dataset(test_files, test_labels, is_training=False)\n"
   ]
  },
  {
   "cell_type": "code",
   "execution_count": 3,
   "id": "4d915881",
   "metadata": {},
   "outputs": [
    {
     "name": "stdout",
     "output_type": "stream",
     "text": [
      "Training samples: 1535\n",
      "Validation samples: 435\n",
      "Test samples: 204\n"
     ]
    }
   ],
   "source": [
    "print(f\"Training samples: {len(train_files)}\")\n",
    "print(f\"Validation samples: {len(val_files)}\")\n",
    "print(f\"Test samples: {len(test_files)}\")"
   ]
  },
  {
   "cell_type": "code",
   "execution_count": 4,
   "id": "31a5feb8",
   "metadata": {},
   "outputs": [
    {
     "ename": "",
     "evalue": "",
     "output_type": "error",
     "traceback": [
      "\u001b[1;31mThe Kernel crashed while executing code in the current cell or a previous cell. \n",
      "\u001b[1;31mPlease review the code in the cell(s) to identify a possible cause of the failure. \n",
      "\u001b[1;31mClick <a href='https://aka.ms/vscodeJupyterKernelCrash'>here</a> for more info. \n",
      "\u001b[1;31mView Jupyter <a href='command:jupyter.viewOutput'>log</a> for further details."
     ]
    }
   ],
   "source": [
    "# Check a batch from the training dataset\n",
    "for images, labels in train_ds.take(1):  # This will take just 1 batch\n",
    "    print(f\"Batch shape: {images.shape}\")  # Should be (BATCH_SIZE, IMG_SIZE[0], IMG_SIZE[1], 3)\n",
    "    print(f\"Labels: {labels.numpy()}\")  # Should be a batch of labels (BATCH_SIZE,)\n",
    "    \n",
    "# Check a batch from the validation dataset\n",
    "for images, labels in val_ds.take(1):\n",
    "    print(f\"Batch shape: {images.shape}\")\n",
    "    print(f\"Labels: {labels.numpy()}\")\n",
    "\n",
    "# Check a batch from the test dataset\n",
    "for images, labels in test_ds.take(1):\n",
    "    print(f\"Batch shape: {images.shape}\")\n",
    "    print(f\"Labels: {labels.numpy()}\")\n"
   ]
  },
  {
   "cell_type": "code",
   "execution_count": null,
   "id": "5d1eebbf",
   "metadata": {},
   "outputs": [],
   "source": [
    "def visualize_samples(dataset, num_samples=5):\n",
    "    plt.figure(figsize=(10, 10))\n",
    "    for i, (images, labels) in enumerate(dataset.take(1)):  # Only take the first batch\n",
    "        for j in range(min(num_samples, BATCH_SIZE)):\n",
    "            plt.subplot(1, num_samples, j + 1)\n",
    "            plt.imshow(images[j])  # Display the image\n",
    "            plt.title(f\"Label: {labels[j].numpy()}\")\n",
    "            plt.axis(\"off\")\n",
    "    plt.show()\n",
    "\n",
    "# Visualize some images from the training set\n",
    "visualize_samples(train_ds)\n",
    "\n",
    "# Visualize some images from the validation set\n",
    "visualize_samples(val_ds)\n",
    "\n",
    "# Visualize some images from the test set\n",
    "visualize_samples(test_ds)\n"
   ]
  },
  {
   "cell_type": "code",
   "execution_count": null,
   "id": "73b9228f",
   "metadata": {},
   "outputs": [],
   "source": [
    "# Check the shape of the first batch\n",
    "for images, labels in train_ds.take(1):\n",
    "    print(f\"Image batch shape: {images.shape}\")  # Should be (BATCH_SIZE, 1600, 3200, 3)\n",
    "    print(f\"Labels batch shape: {labels.shape}\")  # Should be (BATCH_SIZE,)\n"
   ]
  },
  {
   "cell_type": "code",
   "execution_count": null,
   "id": "26814a86",
   "metadata": {},
   "outputs": [],
   "source": [
    "# -------- BUILD MODEL -------- (change the layers!)\n",
    "model = tf.keras.Sequential([\n",
    "    tf.keras.layers.Conv2D(16, (3, 3), activation='relu', input_shape=(IMG_SIZE[0], IMG_SIZE[1], 3)),\n",
    "    tf.keras.layers.MaxPooling2D(2, 2),\n",
    "    tf.keras.layers.Conv2D(32, (3, 3), activation='relu'),\n",
    "    tf.keras.layers.MaxPooling2D(2, 2),\n",
    "    tf.keras.layers.Conv2D(64, (3, 3), activation='relu'),\n",
    "    tf.keras.layers.MaxPooling2D(2, 2),\n",
    "    tf.keras.layers.Flatten(),\n",
    "    tf.keras.layers.Dense(128, activation='relu'),\n",
    "    tf.keras.layers.Dropout(0.5),\n",
    "    tf.keras.layers.Dense(num_classes, activation='softmax')\n",
    "])\n",
    "\n",
    "model.compile(optimizer='adam',\n",
    "              loss='sparse_categorical_crossentropy',\n",
    "              metrics=['accuracy'])\n",
    "\n",
    "model.summary()\n",
    "\n",
    "\n",
    "# -------- TRAIN --------\n",
    "model.fit(train_ds,\n",
    "          validation_data=val_ds,\n",
    "          epochs=EPOCHS)\n",
    "\n",
    "# -------- EVALUATE --------\n",
    "loss, acc = model.evaluate(test_ds)\n",
    "print(f\"\\n✅ Test accuracy: {acc:.4f}\")"
   ]
  }
 ],
 "metadata": {
  "kernelspec": {
   "display_name": "Python 3",
   "language": "python",
   "name": "python3"
  },
  "language_info": {
   "codemirror_mode": {
    "name": "ipython",
    "version": 3
   },
   "file_extension": ".py",
   "mimetype": "text/x-python",
   "name": "python",
   "nbconvert_exporter": "python",
   "pygments_lexer": "ipython3",
   "version": "3.10.16"
  }
 },
 "nbformat": 4,
 "nbformat_minor": 5
}
